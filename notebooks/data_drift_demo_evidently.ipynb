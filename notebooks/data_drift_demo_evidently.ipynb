{
 "cells": [
  {
   "cell_type": "code",
   "execution_count": 7,
   "metadata": {},
   "outputs": [
    {
     "data": {
      "text/plain": [
       "True"
      ]
     },
     "execution_count": 7,
     "metadata": {},
     "output_type": "execute_result"
    }
   ],
   "source": [
    "import os\n",
    "import pandas as pd\n",
    "from pandas import DataFrame\n",
    "import numpy as np\n",
    "from Electric_Vehicle_Prediction.configurations.mongo_db_connection import mongodb_client\n",
    "from evidently import Report\n",
    "from evidently.presets import DataDriftPreset, RegressionPreset\n",
    "import warnings\n",
    "warnings.filterwarnings(\"ignore\")\n",
    "pd.pandas.set_option(\"display.max_columns\", None)\n",
    "from dotenv import load_dotenv\n",
    "\n",
    "load_dotenv()"
   ]
  },
  {
   "cell_type": "code",
   "execution_count": 2,
   "metadata": {},
   "outputs": [
    {
     "data": {
      "text/html": [
       "<div>\n",
       "<style scoped>\n",
       "    .dataframe tbody tr th:only-of-type {\n",
       "        vertical-align: middle;\n",
       "    }\n",
       "\n",
       "    .dataframe tbody tr th {\n",
       "        vertical-align: top;\n",
       "    }\n",
       "\n",
       "    .dataframe thead th {\n",
       "        text-align: right;\n",
       "    }\n",
       "</style>\n",
       "<table border=\"1\" class=\"dataframe\">\n",
       "  <thead>\n",
       "    <tr style=\"text-align: right;\">\n",
       "      <th></th>\n",
       "      <th>VIN (1-10)</th>\n",
       "      <th>County</th>\n",
       "      <th>City</th>\n",
       "      <th>State</th>\n",
       "      <th>Postal Code</th>\n",
       "      <th>Model Year</th>\n",
       "      <th>Make</th>\n",
       "      <th>Model</th>\n",
       "      <th>Electric Vehicle Type</th>\n",
       "      <th>Clean Alternative Fuel Vehicle (CAFV) Eligibility</th>\n",
       "      <th>Electric Range</th>\n",
       "      <th>Base MSRP</th>\n",
       "      <th>Legislative District</th>\n",
       "      <th>DOL Vehicle ID</th>\n",
       "      <th>Vehicle Location</th>\n",
       "      <th>Electric Utility</th>\n",
       "      <th>2020 Census Tract</th>\n",
       "    </tr>\n",
       "  </thead>\n",
       "  <tbody>\n",
       "    <tr>\n",
       "      <th>0</th>\n",
       "      <td>2T3YL4DV0E</td>\n",
       "      <td>King</td>\n",
       "      <td>Bellevue</td>\n",
       "      <td>WA</td>\n",
       "      <td>98005.0</td>\n",
       "      <td>2014</td>\n",
       "      <td>TOYOTA</td>\n",
       "      <td>RAV4</td>\n",
       "      <td>Battery Electric Vehicle (BEV)</td>\n",
       "      <td>Clean Alternative Fuel Vehicle Eligible</td>\n",
       "      <td>103.0</td>\n",
       "      <td>0.0</td>\n",
       "      <td>41.0</td>\n",
       "      <td>186450183</td>\n",
       "      <td>POINT (-122.1621 47.64441)</td>\n",
       "      <td>PUGET SOUND ENERGY INC||CITY OF TACOMA - (WA)</td>\n",
       "      <td>5.303302e+10</td>\n",
       "    </tr>\n",
       "    <tr>\n",
       "      <th>1</th>\n",
       "      <td>5YJ3E1EB6K</td>\n",
       "      <td>King</td>\n",
       "      <td>Bothell</td>\n",
       "      <td>WA</td>\n",
       "      <td>98011.0</td>\n",
       "      <td>2019</td>\n",
       "      <td>TESLA</td>\n",
       "      <td>MODEL 3</td>\n",
       "      <td>Battery Electric Vehicle (BEV)</td>\n",
       "      <td>Clean Alternative Fuel Vehicle Eligible</td>\n",
       "      <td>220.0</td>\n",
       "      <td>0.0</td>\n",
       "      <td>1.0</td>\n",
       "      <td>478093654</td>\n",
       "      <td>POINT (-122.20563 47.76144)</td>\n",
       "      <td>PUGET SOUND ENERGY INC||CITY OF TACOMA - (WA)</td>\n",
       "      <td>5.303302e+10</td>\n",
       "    </tr>\n",
       "    <tr>\n",
       "      <th>2</th>\n",
       "      <td>5UX43EU02S</td>\n",
       "      <td>Thurston</td>\n",
       "      <td>Olympia</td>\n",
       "      <td>WA</td>\n",
       "      <td>98502.0</td>\n",
       "      <td>2025</td>\n",
       "      <td>BMW</td>\n",
       "      <td>X5</td>\n",
       "      <td>Plug-in Hybrid Electric Vehicle (PHEV)</td>\n",
       "      <td>Clean Alternative Fuel Vehicle Eligible</td>\n",
       "      <td>40.0</td>\n",
       "      <td>0.0</td>\n",
       "      <td>35.0</td>\n",
       "      <td>274800718</td>\n",
       "      <td>POINT (-122.92333 47.03779)</td>\n",
       "      <td>PUGET SOUND ENERGY INC</td>\n",
       "      <td>5.306701e+10</td>\n",
       "    </tr>\n",
       "    <tr>\n",
       "      <th>3</th>\n",
       "      <td>JTMAB3FV5R</td>\n",
       "      <td>Thurston</td>\n",
       "      <td>Olympia</td>\n",
       "      <td>WA</td>\n",
       "      <td>98513.0</td>\n",
       "      <td>2024</td>\n",
       "      <td>TOYOTA</td>\n",
       "      <td>RAV4 PRIME</td>\n",
       "      <td>Plug-in Hybrid Electric Vehicle (PHEV)</td>\n",
       "      <td>Clean Alternative Fuel Vehicle Eligible</td>\n",
       "      <td>42.0</td>\n",
       "      <td>0.0</td>\n",
       "      <td>2.0</td>\n",
       "      <td>260758165</td>\n",
       "      <td>POINT (-122.81754 46.98876)</td>\n",
       "      <td>PUGET SOUND ENERGY INC</td>\n",
       "      <td>5.306701e+10</td>\n",
       "    </tr>\n",
       "    <tr>\n",
       "      <th>4</th>\n",
       "      <td>5YJYGDEE8M</td>\n",
       "      <td>Yakima</td>\n",
       "      <td>Selah</td>\n",
       "      <td>WA</td>\n",
       "      <td>98942.0</td>\n",
       "      <td>2021</td>\n",
       "      <td>TESLA</td>\n",
       "      <td>MODEL Y</td>\n",
       "      <td>Battery Electric Vehicle (BEV)</td>\n",
       "      <td>Eligibility unknown as battery range has not b...</td>\n",
       "      <td>0.0</td>\n",
       "      <td>0.0</td>\n",
       "      <td>15.0</td>\n",
       "      <td>236581355</td>\n",
       "      <td>POINT (-120.53145 46.65405)</td>\n",
       "      <td>PACIFICORP</td>\n",
       "      <td>5.307700e+10</td>\n",
       "    </tr>\n",
       "  </tbody>\n",
       "</table>\n",
       "</div>"
      ],
      "text/plain": [
       "   VIN (1-10)    County      City State  Postal Code  Model Year    Make  \\\n",
       "0  2T3YL4DV0E      King  Bellevue    WA      98005.0        2014  TOYOTA   \n",
       "1  5YJ3E1EB6K      King   Bothell    WA      98011.0        2019   TESLA   \n",
       "2  5UX43EU02S  Thurston   Olympia    WA      98502.0        2025     BMW   \n",
       "3  JTMAB3FV5R  Thurston   Olympia    WA      98513.0        2024  TOYOTA   \n",
       "4  5YJYGDEE8M    Yakima     Selah    WA      98942.0        2021   TESLA   \n",
       "\n",
       "        Model                   Electric Vehicle Type  \\\n",
       "0        RAV4          Battery Electric Vehicle (BEV)   \n",
       "1     MODEL 3          Battery Electric Vehicle (BEV)   \n",
       "2          X5  Plug-in Hybrid Electric Vehicle (PHEV)   \n",
       "3  RAV4 PRIME  Plug-in Hybrid Electric Vehicle (PHEV)   \n",
       "4     MODEL Y          Battery Electric Vehicle (BEV)   \n",
       "\n",
       "   Clean Alternative Fuel Vehicle (CAFV) Eligibility  Electric Range  \\\n",
       "0            Clean Alternative Fuel Vehicle Eligible           103.0   \n",
       "1            Clean Alternative Fuel Vehicle Eligible           220.0   \n",
       "2            Clean Alternative Fuel Vehicle Eligible            40.0   \n",
       "3            Clean Alternative Fuel Vehicle Eligible            42.0   \n",
       "4  Eligibility unknown as battery range has not b...             0.0   \n",
       "\n",
       "   Base MSRP  Legislative District  DOL Vehicle ID  \\\n",
       "0        0.0                  41.0       186450183   \n",
       "1        0.0                   1.0       478093654   \n",
       "2        0.0                  35.0       274800718   \n",
       "3        0.0                   2.0       260758165   \n",
       "4        0.0                  15.0       236581355   \n",
       "\n",
       "              Vehicle Location                               Electric Utility  \\\n",
       "0   POINT (-122.1621 47.64441)  PUGET SOUND ENERGY INC||CITY OF TACOMA - (WA)   \n",
       "1  POINT (-122.20563 47.76144)  PUGET SOUND ENERGY INC||CITY OF TACOMA - (WA)   \n",
       "2  POINT (-122.92333 47.03779)                         PUGET SOUND ENERGY INC   \n",
       "3  POINT (-122.81754 46.98876)                         PUGET SOUND ENERGY INC   \n",
       "4  POINT (-120.53145 46.65405)                                     PACIFICORP   \n",
       "\n",
       "   2020 Census Tract  \n",
       "0       5.303302e+10  \n",
       "1       5.303302e+10  \n",
       "2       5.306701e+10  \n",
       "3       5.306701e+10  \n",
       "4       5.307700e+10  "
      ]
     },
     "execution_count": 2,
     "metadata": {},
     "output_type": "execute_result"
    }
   ],
   "source": [
    "from Electric_Vehicle_Prediction.constants import (\n",
    "    MONGODB_DATABASE_NAME,\n",
    "    MONGODB_COLLECTION_NAME,\n",
    ")\n",
    "\n",
    "database = mongodb_client[MONGODB_DATABASE_NAME]\n",
    "collection = database[MONGODB_COLLECTION_NAME]\n",
    "data = collection.find({}, {\"_id\": 0, \"index\": 0})\n",
    "df = pd.DataFrame(list(data))\n",
    "df.head()"
   ]
  },
  {
   "cell_type": "code",
   "execution_count": 3,
   "metadata": {},
   "outputs": [],
   "source": [
    "# List of columns to drop\n",
    "drop_columns = [\n",
    "    \"VIN (1-10)\",\n",
    "    \"Postal Code\", \n",
    "    \"Legislative District\",\n",
    "    \"DOL Vehicle ID\", \n",
    "    \"2020 Census Tract\", \n",
    "    \"County\", \n",
    "    \"State\", \n",
    "    \"City\", \n",
    "    \"Electric Utility\", \n",
    "    \"Vehicle Location\"\n",
    "]\n",
    "\n",
    "# Drop the specified columns\n",
    "data = df.drop(columns=drop_columns)"
   ]
  },
  {
   "cell_type": "code",
   "execution_count": 5,
   "metadata": {},
   "outputs": [],
   "source": [
    "data.dropna(inplace=True)"
   ]
  },
  {
   "cell_type": "code",
   "execution_count": null,
   "metadata": {},
   "outputs": [],
   "source": [
    "def detect_dataset_drift(reference_df: DataFrame,current_df: DataFrame,) -> bool:\n",
    "    report = Report(metrics=[DataDriftPreset()])\n",
    "    report.run(reference_data=reference_df, current_data=current_df)\n",
    "    json_report = report\n",
    "    return json_report\n"
   ]
  },
  {
   "cell_type": "code",
   "execution_count": 30,
   "metadata": {},
   "outputs": [
    {
     "name": "stdout",
     "output_type": "stream",
     "text": [
      "{'metrics': [DataDriftPreset(type='evidently:metric_container:DataDriftPreset', include_tests=True, columns=None, embeddings=None, embeddings_drift_method=None, drift_share=0.5, method=None, cat_method=None, num_method=None, text_method=None, per_column_method=None, threshold=None, cat_threshold=None, num_threshold=None, text_threshold=None, per_column_threshold=None)], 'metadata': {}, 'tags': [], '_timestamp': None, 'include_tests': False}\n"
     ]
    }
   ],
   "source": [
    "json_report = detect_dataset_drift(data[:200000], data[200000:])\n",
    "print(json_report)"
   ]
  },
  {
   "cell_type": "code",
   "execution_count": 32,
   "metadata": {},
   "outputs": [
    {
     "data": {
      "text/plain": [
       "DataDriftPreset(type='evidently:metric_container:DataDriftPreset', include_tests=True, columns=None, embeddings=None, embeddings_drift_method=None, drift_share=0.5, method=None, cat_method=None, num_method=None, text_method=None, per_column_method=None, threshold=None, cat_threshold=None, num_threshold=None, text_threshold=None, per_column_threshold=None)"
      ]
     },
     "execution_count": 32,
     "metadata": {},
     "output_type": "execute_result"
    }
   ],
   "source": [
    "json_report[\"metrics\"][0]"
   ]
  },
  {
   "cell_type": "code",
   "execution_count": null,
   "metadata": {},
   "outputs": [],
   "source": [
    "from evidently import Report\n",
    "from evidently.presets import DataDriftPreset, RegressionPreset"
   ]
  },
  {
   "cell_type": "code",
   "execution_count": null,
   "metadata": {},
   "outputs": [],
   "source": [
    "column_mapping = ColumnMapping()\n",
    "column_mapping.target = \"MEDV\"\n",
    "\n",
    "boston_data_drift_dashboard = Dashboard(tabs=[DataDriftTab(), CatTargetDriftTab()])\n",
    "boston_data_drift_dashboard.calculate(\n",
    "    data[:200], \n",
    "    data[200:], \n",
    "    column_mapping=column_mapping\n",
    ")\n",
    "boston_data_drift_dashboard.show()"
   ]
  },
  {
   "cell_type": "code",
   "execution_count": 10,
   "metadata": {},
   "outputs": [
    {
     "name": "stdout",
     "output_type": "stream",
     "text": [
      "VIN (1-10): Categorical column: Not tested\n",
      "County: Categorical column: Not tested\n",
      "City: Categorical column: Not tested\n",
      "State: Categorical column: Not tested\n",
      "Postal Code: {'p_value': np.float64(nan), 'drift_detected': np.False_}\n",
      "Model Year: {'p_value': np.float64(0.022156315235406652), 'drift_detected': np.True_}\n",
      "Make: Categorical column: Not tested\n",
      "Model: Categorical column: Not tested\n",
      "Electric Vehicle Type: Categorical column: Not tested\n",
      "Clean Alternative Fuel Vehicle (CAFV) Eligibility: Categorical column: Not tested\n",
      "Electric Range: {'p_value': np.float64(nan), 'drift_detected': np.False_}\n",
      "Base MSRP: {'p_value': np.float64(nan), 'drift_detected': np.False_}\n",
      "Legislative District: {'p_value': np.float64(nan), 'drift_detected': np.False_}\n",
      "DOL Vehicle ID: {'p_value': np.float64(8.794436448709497e-11), 'drift_detected': np.True_}\n",
      "Vehicle Location: Categorical column: Not tested\n",
      "Electric Utility: Categorical column: Not tested\n",
      "2020 Census Tract: {'p_value': np.float64(nan), 'drift_detected': np.False_}\n"
     ]
    }
   ],
   "source": [
    "import numpy as np\n",
    "import pandas as pd\n",
    "from scipy.stats import ks_2samp\n",
    "\n",
    "# Example: Generate sample datasets\n",
    "reference_data = df.iloc[:120000]  # Reference dataset (e.g., older data)\n",
    "current_data = df.iloc[120000:]  # Current dataset (e.g., new data)\n",
    "\n",
    "# Data drift detection function\n",
    "def detect_data_drift(reference, current, threshold=0.05):\n",
    "    drift_results = {}\n",
    "    for column in reference.columns:\n",
    "        # Perform KS test for numerical features\n",
    "        if np.issubdtype(reference[column].dtype, np.number):\n",
    "            stat, p_value = ks_2samp(reference[column], current[column])\n",
    "            drift_results[column] = {\"p_value\": p_value, \"drift_detected\": p_value < threshold}\n",
    "        else:\n",
    "            # Handle categorical data if needed\n",
    "            drift_results[column] = \"Categorical column: Not tested\"\n",
    "    return drift_results\n",
    "\n",
    "# Perform data drift detection\n",
    "drift_results = detect_data_drift(reference_data, current_data)\n",
    "\n",
    "# Display results\n",
    "for feature, result in drift_results.items():\n",
    "    print(f\"{feature}: {result}\")"
   ]
  }
 ],
 "metadata": {
  "kernelspec": {
   "display_name": "venv",
   "language": "python",
   "name": "python3"
  },
  "language_info": {
   "codemirror_mode": {
    "name": "ipython",
    "version": 3
   },
   "file_extension": ".py",
   "mimetype": "text/x-python",
   "name": "python",
   "nbconvert_exporter": "python",
   "pygments_lexer": "ipython3",
   "version": "3.11.7"
  }
 },
 "nbformat": 4,
 "nbformat_minor": 2
}
